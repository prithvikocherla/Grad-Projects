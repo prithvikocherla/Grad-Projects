{
 "cells": [
  {
   "cell_type": "code",
   "execution_count": 1,
   "metadata": {},
   "outputs": [],
   "source": [
    "import numpy as np\n",
    "import pandas as pd\n",
    "import matplotlib.pyplot as plt"
   ]
  },
  {
   "cell_type": "code",
   "execution_count": 2,
   "metadata": {},
   "outputs": [],
   "source": [
    "#Loading modified dataset, which contains column by name 'Percentage Aggressive Turns'.\n",
    "#It is formed by dividing aggressive turns w.r.t. total turns.\n",
    "driver_data_mod =  pd.read_csv(\"/Users/prith/Desktop/Project/Modified Driver Stats.csv\", thousands = ',')"
   ]
  },
  {
   "cell_type": "code",
   "execution_count": 3,
   "metadata": {},
   "outputs": [
    {
     "data": {
      "text/html": [
       "<div>\n",
       "<style scoped>\n",
       "    .dataframe tbody tr th:only-of-type {\n",
       "        vertical-align: middle;\n",
       "    }\n",
       "\n",
       "    .dataframe tbody tr th {\n",
       "        vertical-align: top;\n",
       "    }\n",
       "\n",
       "    .dataframe thead th {\n",
       "        text-align: right;\n",
       "    }\n",
       "</style>\n",
       "<table border=\"1\" class=\"dataframe\">\n",
       "  <thead>\n",
       "    <tr style=\"text-align: right;\">\n",
       "      <th></th>\n",
       "      <th>Average Velocity (mph)</th>\n",
       "      <th>Max Velocity</th>\n",
       "      <th>Velocity Stdev</th>\n",
       "      <th>Average Acceleration (mph per s)</th>\n",
       "      <th>Max Acceleration (mph per s)</th>\n",
       "      <th>Acceleration Stdev</th>\n",
       "      <th>Displacement</th>\n",
       "      <th>Total Distance Traveled</th>\n",
       "      <th>Max Direction Change per sec</th>\n",
       "      <th>Direction Stdev</th>\n",
       "      <th>Time (s)</th>\n",
       "      <th>Stops</th>\n",
       "      <th>Large Deceleration Events</th>\n",
       "      <th>Deceleration Events</th>\n",
       "      <th>Max Deceleration Event</th>\n",
       "      <th>Percentage Aggressive Turns</th>\n",
       "      <th>labels</th>\n",
       "    </tr>\n",
       "  </thead>\n",
       "  <tbody>\n",
       "    <tr>\n",
       "      <th>0</th>\n",
       "      <td>22.025986</td>\n",
       "      <td>51.479567</td>\n",
       "      <td>16.089867</td>\n",
       "      <td>1.181900</td>\n",
       "      <td>6.456999</td>\n",
       "      <td>1.773505</td>\n",
       "      <td>4351.885666</td>\n",
       "      <td>5390.362782</td>\n",
       "      <td>59.176701</td>\n",
       "      <td>87.849736</td>\n",
       "      <td>549</td>\n",
       "      <td>3.0</td>\n",
       "      <td>1</td>\n",
       "      <td>3</td>\n",
       "      <td>-6.050113</td>\n",
       "      <td>47.025986</td>\n",
       "      <td>1</td>\n",
       "    </tr>\n",
       "    <tr>\n",
       "      <th>1</th>\n",
       "      <td>25.933013</td>\n",
       "      <td>47.370042</td>\n",
       "      <td>13.689941</td>\n",
       "      <td>1.105177</td>\n",
       "      <td>13.747442</td>\n",
       "      <td>1.779482</td>\n",
       "      <td>9764.480899</td>\n",
       "      <td>11708.811650</td>\n",
       "      <td>51.436036</td>\n",
       "      <td>71.703856</td>\n",
       "      <td>1011</td>\n",
       "      <td>5.0</td>\n",
       "      <td>3</td>\n",
       "      <td>11</td>\n",
       "      <td>-13.747442</td>\n",
       "      <td>37.697719</td>\n",
       "      <td>1</td>\n",
       "    </tr>\n",
       "    <tr>\n",
       "      <th>2</th>\n",
       "      <td>13.319320</td>\n",
       "      <td>31.070665</td>\n",
       "      <td>10.550685</td>\n",
       "      <td>1.059753</td>\n",
       "      <td>15.378824</td>\n",
       "      <td>2.199846</td>\n",
       "      <td>400.950134</td>\n",
       "      <td>1226.884398</td>\n",
       "      <td>47.862405</td>\n",
       "      <td>101.083523</td>\n",
       "      <td>206</td>\n",
       "      <td>2.0</td>\n",
       "      <td>0</td>\n",
       "      <td>1</td>\n",
       "      <td>-13.844077</td>\n",
       "      <td>60.816699</td>\n",
       "      <td>1</td>\n",
       "    </tr>\n",
       "    <tr>\n",
       "      <th>3</th>\n",
       "      <td>16.599385</td>\n",
       "      <td>41.563319</td>\n",
       "      <td>13.933061</td>\n",
       "      <td>1.580786</td>\n",
       "      <td>14.470438</td>\n",
       "      <td>2.374612</td>\n",
       "      <td>1660.095467</td>\n",
       "      <td>3614.249163</td>\n",
       "      <td>55.133316</td>\n",
       "      <td>96.266504</td>\n",
       "      <td>488</td>\n",
       "      <td>6.0</td>\n",
       "      <td>3</td>\n",
       "      <td>10</td>\n",
       "      <td>-11.376965</td>\n",
       "      <td>71.144840</td>\n",
       "      <td>1</td>\n",
       "    </tr>\n",
       "    <tr>\n",
       "      <th>4</th>\n",
       "      <td>16.182505</td>\n",
       "      <td>39.469792</td>\n",
       "      <td>10.719522</td>\n",
       "      <td>1.363552</td>\n",
       "      <td>7.118497</td>\n",
       "      <td>2.925042</td>\n",
       "      <td>985.140746</td>\n",
       "      <td>1904.132677</td>\n",
       "      <td>45.000000</td>\n",
       "      <td>80.409318</td>\n",
       "      <td>264</td>\n",
       "      <td>1.0</td>\n",
       "      <td>0</td>\n",
       "      <td>6</td>\n",
       "      <td>-5.705107</td>\n",
       "      <td>53.682505</td>\n",
       "      <td>1</td>\n",
       "    </tr>\n",
       "  </tbody>\n",
       "</table>\n",
       "</div>"
      ],
      "text/plain": [
       "   Average Velocity (mph)  Max Velocity  Velocity Stdev  \\\n",
       "0               22.025986     51.479567       16.089867   \n",
       "1               25.933013     47.370042       13.689941   \n",
       "2               13.319320     31.070665       10.550685   \n",
       "3               16.599385     41.563319       13.933061   \n",
       "4               16.182505     39.469792       10.719522   \n",
       "\n",
       "   Average Acceleration (mph per s)  Max Acceleration (mph per s)  \\\n",
       "0                          1.181900                      6.456999   \n",
       "1                          1.105177                     13.747442   \n",
       "2                          1.059753                     15.378824   \n",
       "3                          1.580786                     14.470438   \n",
       "4                          1.363552                      7.118497   \n",
       "\n",
       "    Acceleration Stdev  Displacement  Total Distance Traveled  \\\n",
       "0             1.773505   4351.885666              5390.362782   \n",
       "1             1.779482   9764.480899             11708.811650   \n",
       "2             2.199846    400.950134              1226.884398   \n",
       "3             2.374612   1660.095467              3614.249163   \n",
       "4             2.925042    985.140746              1904.132677   \n",
       "\n",
       "   Max Direction Change per sec   Direction Stdev  Time (s)  Stops  \\\n",
       "0                     59.176701         87.849736       549    3.0   \n",
       "1                     51.436036         71.703856      1011    5.0   \n",
       "2                     47.862405        101.083523       206    2.0   \n",
       "3                     55.133316         96.266504       488    6.0   \n",
       "4                     45.000000         80.409318       264    1.0   \n",
       "\n",
       "   Large Deceleration Events  Deceleration Events  Max Deceleration Event  \\\n",
       "0                          1                    3               -6.050113   \n",
       "1                          3                   11              -13.747442   \n",
       "2                          0                    1              -13.844077   \n",
       "3                          3                   10              -11.376965   \n",
       "4                          0                    6               -5.705107   \n",
       "\n",
       "   Percentage Aggressive Turns  labels  \n",
       "0                    47.025986       1  \n",
       "1                    37.697719       1  \n",
       "2                    60.816699       1  \n",
       "3                    71.144840       1  \n",
       "4                    53.682505       1  "
      ]
     },
     "execution_count": 3,
     "metadata": {},
     "output_type": "execute_result"
    }
   ],
   "source": [
    "driver_data_mod.head()"
   ]
  },
  {
   "cell_type": "code",
   "execution_count": 4,
   "metadata": {},
   "outputs": [
    {
     "data": {
      "text/html": [
       "<div>\n",
       "<style scoped>\n",
       "    .dataframe tbody tr th:only-of-type {\n",
       "        vertical-align: middle;\n",
       "    }\n",
       "\n",
       "    .dataframe tbody tr th {\n",
       "        vertical-align: top;\n",
       "    }\n",
       "\n",
       "    .dataframe thead th {\n",
       "        text-align: right;\n",
       "    }\n",
       "</style>\n",
       "<table border=\"1\" class=\"dataframe\">\n",
       "  <thead>\n",
       "    <tr style=\"text-align: right;\">\n",
       "      <th></th>\n",
       "      <th>Average Velocity (mph)</th>\n",
       "      <th>Max Velocity</th>\n",
       "      <th>Velocity Stdev</th>\n",
       "      <th>Average Acceleration (mph per s)</th>\n",
       "      <th>Max Acceleration (mph per s)</th>\n",
       "      <th>Acceleration Stdev</th>\n",
       "      <th>Displacement</th>\n",
       "      <th>Total Distance Traveled</th>\n",
       "      <th>Max Direction Change per sec</th>\n",
       "      <th>Direction Stdev</th>\n",
       "      <th>Time (s)</th>\n",
       "      <th>Stops</th>\n",
       "      <th>Large Deceleration Events</th>\n",
       "      <th>Deceleration Events</th>\n",
       "      <th>Max Deceleration Event</th>\n",
       "      <th>Percentage Aggressive Turns</th>\n",
       "      <th>labels</th>\n",
       "    </tr>\n",
       "  </thead>\n",
       "  <tbody>\n",
       "    <tr>\n",
       "      <th>count</th>\n",
       "      <td>4600.000000</td>\n",
       "      <td>4600.000000</td>\n",
       "      <td>4600.000000</td>\n",
       "      <td>4600.000000</td>\n",
       "      <td>4600.000000</td>\n",
       "      <td>4600.000000</td>\n",
       "      <td>4600.000000</td>\n",
       "      <td>4600.000000</td>\n",
       "      <td>4600.000000</td>\n",
       "      <td>4600.000000</td>\n",
       "      <td>4600.000000</td>\n",
       "      <td>4600.000000</td>\n",
       "      <td>4600.000000</td>\n",
       "      <td>4600.000000</td>\n",
       "      <td>4600.000000</td>\n",
       "      <td>4600.000000</td>\n",
       "      <td>4600.000000</td>\n",
       "    </tr>\n",
       "    <tr>\n",
       "      <th>mean</th>\n",
       "      <td>17.143772</td>\n",
       "      <td>43.930266</td>\n",
       "      <td>12.679038</td>\n",
       "      <td>1.193506</td>\n",
       "      <td>14.586791</td>\n",
       "      <td>2.052010</td>\n",
       "      <td>3294.765953</td>\n",
       "      <td>5237.066675</td>\n",
       "      <td>65.329313</td>\n",
       "      <td>103.359228</td>\n",
       "      <td>636.169783</td>\n",
       "      <td>5.891223</td>\n",
       "      <td>1.112174</td>\n",
       "      <td>7.244130</td>\n",
       "      <td>-11.295638</td>\n",
       "      <td>43.077231</td>\n",
       "      <td>0.854783</td>\n",
       "    </tr>\n",
       "    <tr>\n",
       "      <th>std</th>\n",
       "      <td>9.736226</td>\n",
       "      <td>18.339800</td>\n",
       "      <td>4.668269</td>\n",
       "      <td>0.458221</td>\n",
       "      <td>14.345964</td>\n",
       "      <td>0.891752</td>\n",
       "      <td>3921.873153</td>\n",
       "      <td>5195.860836</td>\n",
       "      <td>34.442457</td>\n",
       "      <td>22.782350</td>\n",
       "      <td>397.501378</td>\n",
       "      <td>5.291768</td>\n",
       "      <td>1.611826</td>\n",
       "      <td>5.934242</td>\n",
       "      <td>7.182614</td>\n",
       "      <td>23.310166</td>\n",
       "      <td>0.569003</td>\n",
       "    </tr>\n",
       "    <tr>\n",
       "      <th>min</th>\n",
       "      <td>0.026113</td>\n",
       "      <td>0.448000</td>\n",
       "      <td>0.087896</td>\n",
       "      <td>0.052225</td>\n",
       "      <td>0.448000</td>\n",
       "      <td>0.125665</td>\n",
       "      <td>0.223607</td>\n",
       "      <td>2.809902</td>\n",
       "      <td>0.000000</td>\n",
       "      <td>14.581429</td>\n",
       "      <td>150.000000</td>\n",
       "      <td>1.000000</td>\n",
       "      <td>0.000000</td>\n",
       "      <td>0.000000</td>\n",
       "      <td>-39.982664</td>\n",
       "      <td>0.047177</td>\n",
       "      <td>0.000000</td>\n",
       "    </tr>\n",
       "    <tr>\n",
       "      <th>25%</th>\n",
       "      <td>10.241975</td>\n",
       "      <td>33.437581</td>\n",
       "      <td>10.065898</td>\n",
       "      <td>0.954951</td>\n",
       "      <td>7.254335</td>\n",
       "      <td>1.572558</td>\n",
       "      <td>754.676534</td>\n",
       "      <td>1710.073161</td>\n",
       "      <td>45.000000</td>\n",
       "      <td>87.375657</td>\n",
       "      <td>322.000000</td>\n",
       "      <td>2.000000</td>\n",
       "      <td>0.000000</td>\n",
       "      <td>3.000000</td>\n",
       "      <td>-13.774150</td>\n",
       "      <td>25.282976</td>\n",
       "      <td>1.000000</td>\n",
       "    </tr>\n",
       "    <tr>\n",
       "      <th>50%</th>\n",
       "      <td>15.437727</td>\n",
       "      <td>40.985879</td>\n",
       "      <td>12.274847</td>\n",
       "      <td>1.154427</td>\n",
       "      <td>10.345544</td>\n",
       "      <td>1.924528</td>\n",
       "      <td>1704.342617</td>\n",
       "      <td>3478.840137</td>\n",
       "      <td>49.516026</td>\n",
       "      <td>105.238781</td>\n",
       "      <td>518.000000</td>\n",
       "      <td>4.000000</td>\n",
       "      <td>1.000000</td>\n",
       "      <td>6.000000</td>\n",
       "      <td>-8.944974</td>\n",
       "      <td>38.956796</td>\n",
       "      <td>1.000000</td>\n",
       "    </tr>\n",
       "    <tr>\n",
       "      <th>75%</th>\n",
       "      <td>23.640534</td>\n",
       "      <td>52.106487</td>\n",
       "      <td>15.325039</td>\n",
       "      <td>1.405204</td>\n",
       "      <td>16.314069</td>\n",
       "      <td>2.363690</td>\n",
       "      <td>4477.182222</td>\n",
       "      <td>6951.420385</td>\n",
       "      <td>73.293805</td>\n",
       "      <td>119.716872</td>\n",
       "      <td>854.000000</td>\n",
       "      <td>8.000000</td>\n",
       "      <td>1.000000</td>\n",
       "      <td>10.000000</td>\n",
       "      <td>-6.320108</td>\n",
       "      <td>56.695294</td>\n",
       "      <td>1.000000</td>\n",
       "    </tr>\n",
       "    <tr>\n",
       "      <th>max</th>\n",
       "      <td>63.739891</td>\n",
       "      <td>147.699424</td>\n",
       "      <td>31.679671</td>\n",
       "      <td>14.662127</td>\n",
       "      <td>140.534184</td>\n",
       "      <td>19.665523</td>\n",
       "      <td>28904.697760</td>\n",
       "      <td>40731.752110</td>\n",
       "      <td>180.000000</td>\n",
       "      <td>158.809584</td>\n",
       "      <td>1785.000000</td>\n",
       "      <td>54.000000</td>\n",
       "      <td>14.000000</td>\n",
       "      <td>43.000000</td>\n",
       "      <td>-0.316784</td>\n",
       "      <td>156.804089</td>\n",
       "      <td>2.000000</td>\n",
       "    </tr>\n",
       "  </tbody>\n",
       "</table>\n",
       "</div>"
      ],
      "text/plain": [
       "       Average Velocity (mph)  Max Velocity  Velocity Stdev  \\\n",
       "count             4600.000000   4600.000000     4600.000000   \n",
       "mean                17.143772     43.930266       12.679038   \n",
       "std                  9.736226     18.339800        4.668269   \n",
       "min                  0.026113      0.448000        0.087896   \n",
       "25%                 10.241975     33.437581       10.065898   \n",
       "50%                 15.437727     40.985879       12.274847   \n",
       "75%                 23.640534     52.106487       15.325039   \n",
       "max                 63.739891    147.699424       31.679671   \n",
       "\n",
       "       Average Acceleration (mph per s)  Max Acceleration (mph per s)  \\\n",
       "count                       4600.000000                   4600.000000   \n",
       "mean                           1.193506                     14.586791   \n",
       "std                            0.458221                     14.345964   \n",
       "min                            0.052225                      0.448000   \n",
       "25%                            0.954951                      7.254335   \n",
       "50%                            1.154427                     10.345544   \n",
       "75%                            1.405204                     16.314069   \n",
       "max                           14.662127                    140.534184   \n",
       "\n",
       "        Acceleration Stdev  Displacement  Total Distance Traveled  \\\n",
       "count          4600.000000   4600.000000              4600.000000   \n",
       "mean              2.052010   3294.765953              5237.066675   \n",
       "std               0.891752   3921.873153              5195.860836   \n",
       "min               0.125665      0.223607                 2.809902   \n",
       "25%               1.572558    754.676534              1710.073161   \n",
       "50%               1.924528   1704.342617              3478.840137   \n",
       "75%               2.363690   4477.182222              6951.420385   \n",
       "max              19.665523  28904.697760             40731.752110   \n",
       "\n",
       "       Max Direction Change per sec   Direction Stdev     Time (s)  \\\n",
       "count                   4600.000000       4600.000000  4600.000000   \n",
       "mean                      65.329313        103.359228   636.169783   \n",
       "std                       34.442457         22.782350   397.501378   \n",
       "min                        0.000000         14.581429   150.000000   \n",
       "25%                       45.000000         87.375657   322.000000   \n",
       "50%                       49.516026        105.238781   518.000000   \n",
       "75%                       73.293805        119.716872   854.000000   \n",
       "max                      180.000000        158.809584  1785.000000   \n",
       "\n",
       "             Stops  Large Deceleration Events  Deceleration Events  \\\n",
       "count  4600.000000                4600.000000          4600.000000   \n",
       "mean      5.891223                   1.112174             7.244130   \n",
       "std       5.291768                   1.611826             5.934242   \n",
       "min       1.000000                   0.000000             0.000000   \n",
       "25%       2.000000                   0.000000             3.000000   \n",
       "50%       4.000000                   1.000000             6.000000   \n",
       "75%       8.000000                   1.000000            10.000000   \n",
       "max      54.000000                  14.000000            43.000000   \n",
       "\n",
       "       Max Deceleration Event  Percentage Aggressive Turns       labels  \n",
       "count             4600.000000                  4600.000000  4600.000000  \n",
       "mean               -11.295638                    43.077231     0.854783  \n",
       "std                  7.182614                    23.310166     0.569003  \n",
       "min                -39.982664                     0.047177     0.000000  \n",
       "25%                -13.774150                    25.282976     1.000000  \n",
       "50%                 -8.944974                    38.956796     1.000000  \n",
       "75%                 -6.320108                    56.695294     1.000000  \n",
       "max                 -0.316784                   156.804089     2.000000  "
      ]
     },
     "execution_count": 4,
     "metadata": {},
     "output_type": "execute_result"
    }
   ],
   "source": [
    "driver_data_mod.describe()"
   ]
  },
  {
   "cell_type": "code",
   "execution_count": 5,
   "metadata": {},
   "outputs": [
    {
     "name": "stdout",
     "output_type": "stream",
     "text": [
      "<class 'numpy.ndarray'> 4600 [3773 1168 2112 ... 1264 1959 1248]\n"
     ]
    }
   ],
   "source": [
    "#Data Pre-processing\n",
    "#Creating shuffled values between 1 and length of our dataset containing features\n",
    "shuffle_index = np.random.permutation(len(driver_data_mod))\n",
    "print(type(shuffle_index), len(shuffle_index), shuffle_index)"
   ]
  },
  {
   "cell_type": "code",
   "execution_count": 6,
   "metadata": {},
   "outputs": [
    {
     "data": {
      "text/html": [
       "<div>\n",
       "<style scoped>\n",
       "    .dataframe tbody tr th:only-of-type {\n",
       "        vertical-align: middle;\n",
       "    }\n",
       "\n",
       "    .dataframe tbody tr th {\n",
       "        vertical-align: top;\n",
       "    }\n",
       "\n",
       "    .dataframe thead th {\n",
       "        text-align: right;\n",
       "    }\n",
       "</style>\n",
       "<table border=\"1\" class=\"dataframe\">\n",
       "  <thead>\n",
       "    <tr style=\"text-align: right;\">\n",
       "      <th></th>\n",
       "      <th>Average Velocity (mph)</th>\n",
       "      <th>Max Velocity</th>\n",
       "      <th>Velocity Stdev</th>\n",
       "      <th>Average Acceleration (mph per s)</th>\n",
       "      <th>Max Acceleration (mph per s)</th>\n",
       "      <th>Acceleration Stdev</th>\n",
       "      <th>Displacement</th>\n",
       "      <th>Total Distance Traveled</th>\n",
       "      <th>Max Direction Change per sec</th>\n",
       "      <th>Direction Stdev</th>\n",
       "      <th>Time (s)</th>\n",
       "      <th>Stops</th>\n",
       "      <th>Large Deceleration Events</th>\n",
       "      <th>Deceleration Events</th>\n",
       "      <th>Max Deceleration Event</th>\n",
       "      <th>Percentage Aggressive Turns</th>\n",
       "      <th>labels</th>\n",
       "    </tr>\n",
       "  </thead>\n",
       "  <tbody>\n",
       "    <tr>\n",
       "      <th>3773</th>\n",
       "      <td>21.112481</td>\n",
       "      <td>41.895187</td>\n",
       "      <td>12.540414</td>\n",
       "      <td>1.372476</td>\n",
       "      <td>20.928645</td>\n",
       "      <td>2.140059</td>\n",
       "      <td>1393.839679</td>\n",
       "      <td>10394.935290</td>\n",
       "      <td>56.821488</td>\n",
       "      <td>101.794849</td>\n",
       "      <td>1103</td>\n",
       "      <td>7.0</td>\n",
       "      <td>4</td>\n",
       "      <td>18</td>\n",
       "      <td>-18.500609</td>\n",
       "      <td>44.445814</td>\n",
       "      <td>1</td>\n",
       "    </tr>\n",
       "    <tr>\n",
       "      <th>1168</th>\n",
       "      <td>16.131321</td>\n",
       "      <td>37.190072</td>\n",
       "      <td>12.320769</td>\n",
       "      <td>1.343110</td>\n",
       "      <td>6.222108</td>\n",
       "      <td>2.309569</td>\n",
       "      <td>3204.525878</td>\n",
       "      <td>4055.941715</td>\n",
       "      <td>45.000000</td>\n",
       "      <td>74.147739</td>\n",
       "      <td>564</td>\n",
       "      <td>6.0</td>\n",
       "      <td>2</td>\n",
       "      <td>11</td>\n",
       "      <td>-6.222108</td>\n",
       "      <td>37.559892</td>\n",
       "      <td>1</td>\n",
       "    </tr>\n",
       "    <tr>\n",
       "      <th>2112</th>\n",
       "      <td>18.058135</td>\n",
       "      <td>35.733442</td>\n",
       "      <td>11.962129</td>\n",
       "      <td>1.161292</td>\n",
       "      <td>14.601407</td>\n",
       "      <td>1.930438</td>\n",
       "      <td>3309.225802</td>\n",
       "      <td>8139.711187</td>\n",
       "      <td>45.000000</td>\n",
       "      <td>102.729700</td>\n",
       "      <td>1010</td>\n",
       "      <td>11.0</td>\n",
       "      <td>0</td>\n",
       "      <td>13</td>\n",
       "      <td>-14.601407</td>\n",
       "      <td>26.058135</td>\n",
       "      <td>1</td>\n",
       "    </tr>\n",
       "    <tr>\n",
       "      <th>2457</th>\n",
       "      <td>29.343681</td>\n",
       "      <td>53.622157</td>\n",
       "      <td>16.087134</td>\n",
       "      <td>1.244596</td>\n",
       "      <td>7.074545</td>\n",
       "      <td>1.745839</td>\n",
       "      <td>7842.370828</td>\n",
       "      <td>9395.756370</td>\n",
       "      <td>45.000000</td>\n",
       "      <td>73.028709</td>\n",
       "      <td>718</td>\n",
       "      <td>1.0</td>\n",
       "      <td>1</td>\n",
       "      <td>11</td>\n",
       "      <td>-6.584870</td>\n",
       "      <td>68.232570</td>\n",
       "      <td>1</td>\n",
       "    </tr>\n",
       "    <tr>\n",
       "      <th>701</th>\n",
       "      <td>16.039734</td>\n",
       "      <td>45.678977</td>\n",
       "      <td>14.411724</td>\n",
       "      <td>1.242161</td>\n",
       "      <td>11.387900</td>\n",
       "      <td>1.848490</td>\n",
       "      <td>2851.763763</td>\n",
       "      <td>3499.756130</td>\n",
       "      <td>64.153426</td>\n",
       "      <td>102.302084</td>\n",
       "      <td>489</td>\n",
       "      <td>5.0</td>\n",
       "      <td>1</td>\n",
       "      <td>7</td>\n",
       "      <td>-10.972952</td>\n",
       "      <td>57.706401</td>\n",
       "      <td>1</td>\n",
       "    </tr>\n",
       "  </tbody>\n",
       "</table>\n",
       "</div>"
      ],
      "text/plain": [
       "      Average Velocity (mph)  Max Velocity  Velocity Stdev  \\\n",
       "3773               21.112481     41.895187       12.540414   \n",
       "1168               16.131321     37.190072       12.320769   \n",
       "2112               18.058135     35.733442       11.962129   \n",
       "2457               29.343681     53.622157       16.087134   \n",
       "701                16.039734     45.678977       14.411724   \n",
       "\n",
       "      Average Acceleration (mph per s)  Max Acceleration (mph per s)  \\\n",
       "3773                          1.372476                     20.928645   \n",
       "1168                          1.343110                      6.222108   \n",
       "2112                          1.161292                     14.601407   \n",
       "2457                          1.244596                      7.074545   \n",
       "701                           1.242161                     11.387900   \n",
       "\n",
       "       Acceleration Stdev  Displacement  Total Distance Traveled  \\\n",
       "3773             2.140059   1393.839679             10394.935290   \n",
       "1168             2.309569   3204.525878              4055.941715   \n",
       "2112             1.930438   3309.225802              8139.711187   \n",
       "2457             1.745839   7842.370828              9395.756370   \n",
       "701              1.848490   2851.763763              3499.756130   \n",
       "\n",
       "      Max Direction Change per sec   Direction Stdev  Time (s)  Stops  \\\n",
       "3773                     56.821488        101.794849      1103    7.0   \n",
       "1168                     45.000000         74.147739       564    6.0   \n",
       "2112                     45.000000        102.729700      1010   11.0   \n",
       "2457                     45.000000         73.028709       718    1.0   \n",
       "701                      64.153426        102.302084       489    5.0   \n",
       "\n",
       "      Large Deceleration Events  Deceleration Events  Max Deceleration Event  \\\n",
       "3773                          4                   18              -18.500609   \n",
       "1168                          2                   11               -6.222108   \n",
       "2112                          0                   13              -14.601407   \n",
       "2457                          1                   11               -6.584870   \n",
       "701                           1                    7              -10.972952   \n",
       "\n",
       "      Percentage Aggressive Turns  labels  \n",
       "3773                    44.445814       1  \n",
       "1168                    37.559892       1  \n",
       "2112                    26.058135       1  \n",
       "2457                    68.232570       1  \n",
       "701                     57.706401       1  "
      ]
     },
     "execution_count": 6,
     "metadata": {},
     "output_type": "execute_result"
    }
   ],
   "source": [
    "#Shuffled Dataset\n",
    "driver_data_mod = driver_data_mod.iloc[shuffle_index]\n",
    "driver_data_mod.head()"
   ]
  },
  {
   "cell_type": "code",
   "execution_count": 7,
   "metadata": {},
   "outputs": [
    {
     "data": {
      "text/plain": [
       "(4600, 17)"
      ]
     },
     "execution_count": 7,
     "metadata": {},
     "output_type": "execute_result"
    }
   ],
   "source": [
    "driver_data_mod.shape"
   ]
  },
  {
   "cell_type": "code",
   "execution_count": 8,
   "metadata": {
    "scrolled": true
   },
   "outputs": [
    {
     "data": {
      "text/html": [
       "<div>\n",
       "<style scoped>\n",
       "    .dataframe tbody tr th:only-of-type {\n",
       "        vertical-align: middle;\n",
       "    }\n",
       "\n",
       "    .dataframe tbody tr th {\n",
       "        vertical-align: top;\n",
       "    }\n",
       "\n",
       "    .dataframe thead th {\n",
       "        text-align: right;\n",
       "    }\n",
       "</style>\n",
       "<table border=\"1\" class=\"dataframe\">\n",
       "  <thead>\n",
       "    <tr style=\"text-align: right;\">\n",
       "      <th></th>\n",
       "      <th>Average Velocity (mph)</th>\n",
       "      <th>Max Velocity</th>\n",
       "      <th>Velocity Stdev</th>\n",
       "      <th>Average Acceleration (mph per s)</th>\n",
       "      <th>Max Acceleration (mph per s)</th>\n",
       "      <th>Acceleration Stdev</th>\n",
       "      <th>Displacement</th>\n",
       "      <th>Total Distance Traveled</th>\n",
       "      <th>Max Direction Change per sec</th>\n",
       "      <th>Direction Stdev</th>\n",
       "      <th>Time (s)</th>\n",
       "      <th>Stops</th>\n",
       "      <th>Large Deceleration Events</th>\n",
       "      <th>Deceleration Events</th>\n",
       "      <th>Max Deceleration Event</th>\n",
       "      <th>Percentage Aggressive Turns</th>\n",
       "    </tr>\n",
       "    <tr>\n",
       "      <th>labels</th>\n",
       "      <th></th>\n",
       "      <th></th>\n",
       "      <th></th>\n",
       "      <th></th>\n",
       "      <th></th>\n",
       "      <th></th>\n",
       "      <th></th>\n",
       "      <th></th>\n",
       "      <th></th>\n",
       "      <th></th>\n",
       "      <th></th>\n",
       "      <th></th>\n",
       "      <th></th>\n",
       "      <th></th>\n",
       "      <th></th>\n",
       "      <th></th>\n",
       "    </tr>\n",
       "  </thead>\n",
       "  <tbody>\n",
       "    <tr>\n",
       "      <th>0</th>\n",
       "      <td>8.880717</td>\n",
       "      <td>33.477614</td>\n",
       "      <td>9.424738</td>\n",
       "      <td>0.998882</td>\n",
       "      <td>11.344683</td>\n",
       "      <td>1.729611</td>\n",
       "      <td>1371.160150</td>\n",
       "      <td>2657.399621</td>\n",
       "      <td>68.197817</td>\n",
       "      <td>108.025697</td>\n",
       "      <td>681.716948</td>\n",
       "      <td>8.660063</td>\n",
       "      <td>0.574091</td>\n",
       "      <td>6.080745</td>\n",
       "      <td>-9.578793</td>\n",
       "      <td>17.504678</td>\n",
       "    </tr>\n",
       "    <tr>\n",
       "      <th>1</th>\n",
       "      <td>18.646076</td>\n",
       "      <td>46.039885</td>\n",
       "      <td>13.495037</td>\n",
       "      <td>1.238059</td>\n",
       "      <td>15.158531</td>\n",
       "      <td>2.118159</td>\n",
       "      <td>3611.552413</td>\n",
       "      <td>5671.653264</td>\n",
       "      <td>64.937728</td>\n",
       "      <td>102.964816</td>\n",
       "      <td>623.386198</td>\n",
       "      <td>5.307536</td>\n",
       "      <td>1.202721</td>\n",
       "      <td>7.505640</td>\n",
       "      <td>-11.607775</td>\n",
       "      <td>45.289781</td>\n",
       "    </tr>\n",
       "    <tr>\n",
       "      <th>2</th>\n",
       "      <td>27.567558</td>\n",
       "      <td>55.742352</td>\n",
       "      <td>15.311234</td>\n",
       "      <td>1.378820</td>\n",
       "      <td>18.792957</td>\n",
       "      <td>2.409241</td>\n",
       "      <td>5937.705714</td>\n",
       "      <td>8717.329835</td>\n",
       "      <td>60.857494</td>\n",
       "      <td>94.491355</td>\n",
       "      <td>608.278867</td>\n",
       "      <td>2.925544</td>\n",
       "      <td>1.838780</td>\n",
       "      <td>8.383442</td>\n",
       "      <td>-13.461442</td>\n",
       "      <td>91.337890</td>\n",
       "    </tr>\n",
       "  </tbody>\n",
       "</table>\n",
       "</div>"
      ],
      "text/plain": [
       "        Average Velocity (mph)  Max Velocity  Velocity Stdev  \\\n",
       "labels                                                         \n",
       "0                     8.880717     33.477614        9.424738   \n",
       "1                    18.646076     46.039885       13.495037   \n",
       "2                    27.567558     55.742352       15.311234   \n",
       "\n",
       "        Average Acceleration (mph per s)  Max Acceleration (mph per s)  \\\n",
       "labels                                                                   \n",
       "0                               0.998882                     11.344683   \n",
       "1                               1.238059                     15.158531   \n",
       "2                               1.378820                     18.792957   \n",
       "\n",
       "         Acceleration Stdev  Displacement  Total Distance Traveled  \\\n",
       "labels                                                               \n",
       "0                  1.729611   1371.160150              2657.399621   \n",
       "1                  2.118159   3611.552413              5671.653264   \n",
       "2                  2.409241   5937.705714              8717.329835   \n",
       "\n",
       "        Max Direction Change per sec   Direction Stdev    Time (s)     Stops  \\\n",
       "labels                                                                         \n",
       "0                          68.197817        108.025697  681.716948  8.660063   \n",
       "1                          64.937728        102.964816  623.386198  5.307536   \n",
       "2                          60.857494         94.491355  608.278867  2.925544   \n",
       "\n",
       "        Large Deceleration Events  Deceleration Events  \\\n",
       "labels                                                   \n",
       "0                        0.574091             6.080745   \n",
       "1                        1.202721             7.505640   \n",
       "2                        1.838780             8.383442   \n",
       "\n",
       "        Max Deceleration Event  Percentage Aggressive Turns  \n",
       "labels                                                       \n",
       "0                    -9.578793                    17.504678  \n",
       "1                   -11.607775                    45.289781  \n",
       "2                   -13.461442                    91.337890  "
      ]
     },
     "execution_count": 8,
     "metadata": {},
     "output_type": "execute_result"
    }
   ],
   "source": [
    "driver_data_mod.groupby(['labels']).agg(\"mean\")"
   ]
  },
  {
   "cell_type": "markdown",
   "metadata": {},
   "source": [
    "# Risk Levels\n",
    "#0 - Low\n",
    "#1 - Medium\n",
    "#2 - High"
   ]
  },
  {
   "cell_type": "code",
   "execution_count": 9,
   "metadata": {},
   "outputs": [],
   "source": [
    "#Modelling\n",
    "from sklearn.model_selection import train_test_split\n",
    "from sklearn.tree import DecisionTreeClassifier\n",
    "from sklearn.metrics import mean_squared_error\n",
    "from sklearn.metrics import confusion_matrix"
   ]
  },
  {
   "cell_type": "code",
   "execution_count": 10,
   "metadata": {},
   "outputs": [],
   "source": [
    "#Train-Test split\n",
    "X_train, X_test, y_train, y_test = train_test_split(driver_data_mod.iloc[:,0:15], driver_data_mod.iloc[:,16],test_size=.2,random_state=42)"
   ]
  },
  {
   "cell_type": "code",
   "execution_count": 11,
   "metadata": {},
   "outputs": [
    {
     "name": "stdout",
     "output_type": "stream",
     "text": [
      "(3680, 15) (920, 15) (3680,) (920,)\n"
     ]
    }
   ],
   "source": [
    "print(X_train.shape,X_test.shape,y_train.shape,y_test.shape)"
   ]
  },
  {
   "cell_type": "code",
   "execution_count": 12,
   "metadata": {},
   "outputs": [
    {
     "data": {
      "text/plain": [
       "DecisionTreeClassifier(class_weight=None, criterion='gini', max_depth=3,\n",
       "            max_features=None, max_leaf_nodes=None,\n",
       "            min_impurity_decrease=0.0, min_impurity_split=None,\n",
       "            min_samples_leaf=1, min_samples_split=2,\n",
       "            min_weight_fraction_leaf=0.0, presort=False, random_state=None,\n",
       "            splitter='best')"
      ]
     },
     "execution_count": 12,
     "metadata": {},
     "output_type": "execute_result"
    }
   ],
   "source": [
    "#1. Decision Tree Classifier\n",
    "tree_clf = DecisionTreeClassifier(max_depth=3)\n",
    "tree_clf.fit(X_train, y_train)"
   ]
  },
  {
   "cell_type": "code",
   "execution_count": 13,
   "metadata": {},
   "outputs": [],
   "source": [
    "#Code for drawing resultant decision tree and saving it to a png file\n",
    "from sklearn.tree import export_graphviz\n",
    "import pydotplus\n",
    "import collections\n",
    "from sklearn import tree"
   ]
  },
  {
   "cell_type": "code",
   "execution_count": 14,
   "metadata": {},
   "outputs": [],
   "source": [
    "#This particular code has been used from example of decision tree building on a sample dataset at link\n",
    "#https://pythonprogramminglanguage.com/decision-tree-visual-example/\n",
    "dot_data = export_graphviz(tree_clf,\n",
    "                    out_file=None,\n",
    "                    feature_names=None,\n",
    "                    rounded=True,\n",
    "                    filled=True)\n",
    "graph = pydotplus.graph_from_dot_data(dot_data)"
   ]
  },
  {
   "cell_type": "code",
   "execution_count": 15,
   "metadata": {},
   "outputs": [],
   "source": [
    "#This particular code will create a png file by name Tree\n",
    "#at the same location of this code running\n",
    "#To get this code running, there needs to be an .exe file \n",
    "#installed by name graphviz-2.38, provided in project files\n",
    "#Get the path for gvedit.exe here it was \"C:\\Program Files (x86)\\Graphviz2.34\\bin\\\"\n",
    "#This path has to be added to computers path in Environment variables\n",
    "#start->computer->system properties->advanced settings->environment variables->Edit User Path->Add\n",
    "#Restart Python IDE"
   ]
  },
  {
   "cell_type": "code",
   "execution_count": 16,
   "metadata": {},
   "outputs": [],
   "source": [
    "colors = ('lightblue', 'thistle')\n",
    "edges = collections.defaultdict(list)\n",
    "\n",
    "for edge in graph.get_edge_list():\n",
    "    edges[edge.get_source()].append(int(edge.get_destination()))\n",
    "    \n",
    "for edge in edges:\n",
    "    edges[edge].sort()    \n",
    "    for i in range(2):\n",
    "        dest = graph.get_node(str(edges[edge][i]))[0]\n",
    "        dest.set_fillcolor(colors[i])"
   ]
  },
  {
   "cell_type": "code",
   "execution_count": 17,
   "metadata": {},
   "outputs": [
    {
     "data": {
      "text/plain": [
       "True"
      ]
     },
     "execution_count": 17,
     "metadata": {},
     "output_type": "execute_result"
    }
   ],
   "source": [
    "graph.write_png('Tree_V2.png')"
   ]
  },
  {
   "cell_type": "code",
   "execution_count": 18,
   "metadata": {},
   "outputs": [
    {
     "name": "stdout",
     "output_type": "stream",
     "text": [
      "[1 2 1 1 1 1 1 1 1 1 0 1 0 0 1 1 0 0 1 1 1 1 1 1 1 0 1 1 1 2 1 0 0 0 1 1 1\n",
      " 1 1 1 1 1 1 1 1 1 1 0 1 1 1 1 1 0 1 1 1 0 0 0 1 1 1 1 1 1 1 0 1 1 1 0 1 1\n",
      " 1 1 1 1 1 1 1 1 1 0 1 1 1 1 1 1 0 1 1 1 0 0 0 0 0 1 1 1 1 1 1 0 0 1 0 1 0\n",
      " 1 1 0 0 1 1 1 1 1 1 1 1 0 0 1 0 0 1 1 1 0 1 1 0 2 1 1 1 0 1 1 1 0 1 1 0 0\n",
      " 1 1 1 1 1 1 1 1 1 1 2 1 1 1 1 0 0 1 1 1 1 1 1 0 0 1 1 1 1 1 1 1 1 1 0 1 1\n",
      " 0 1 0 1 1 1 0 1 1 1 0 1 1 1 1 1 1 1 0 1 1 1 1 1 0 1 0 1 1 2 0 1 1 1 1 0 1\n",
      " 0 0 0 1 1 1 0 1 1 0 1 0 1 0 0 1 1 0 1 1 1 1 1 1 1 0 0 1 1 1 1 1 1 1 1 1 2\n",
      " 0 1 1 1 1 1 1 2 1 1 0 0 1 1 1 1 1 2 1 0 1 2 0 1 0 1 1 1 1 1 1 1 1 1 1 0 1\n",
      " 1 1 0 0 1 1 1 1 2 1 1 0 2 1 1 1 1 1 1 1 1 0 1 1 1 1 1 1 1 1 1 1 1 1 1 1 1\n",
      " 0 1 1 1 1 0 1 1 1 1 0 1 1 1 1 1 0 1 1 0 1 1 1 1 0 1 1 0 0 1 1 1 1 1 1 1 2\n",
      " 1 1 2 1 0 1 1 1 1 1 0 1 1 1 1 1 1 1 1 1 1 1 1 1 1 1 1 0 1 0 1 0 1 0 1 1 1\n",
      " 0 1 1 0 1 1 1 0 1 0 1 1 1 0 1 1 0 1 0 1 0 1 1 1 1 0 1 1 1 1 0 1 1 1 1 0 1\n",
      " 1 1 1 1 1 1 1 0 0 1 1 1 1 1 1 1 1 1 1 1 1 1 1 1 1 1 0 0 1 1 1 1 1 1 1 1 1\n",
      " 0 1 1 1 1 1 1 1 0 0 0 2 1 1 1 1 0 1 1 1 1 0 1 1 1 0 1 0 1 0 1 1 1 1 0 1 1\n",
      " 1 1 1 1 1 1 1 1 1 1 1 1 1 0 1 0 1 1 0 1 2 1 1 1 1 1 0 1 1 1 1 1 0 1 1 0 1\n",
      " 1 1 1 0 0 0 1 1 2 1 1 0 0 1 2 0 1 1 1 1 1 1 1 0 1 1 1 1 0 1 0 1 0 1 0 2 1\n",
      " 0 1 0 1 1 1 1 0 2 1 0 1 1 0 2 0 1 1 1 0 0 1 1 1 2 1 0 1 1 1 1 1 1 0 1 1 1\n",
      " 1 1 1 1 0 1 1 0 0 0 1 1 1 0 1 1 1 1 1 1 2 1 1 1 1 1 1 1 1 1 1 1 1 1 1 1 0\n",
      " 1 1 0 1 1 1 1 1 2 1 1 0 1 1 1 0 1 1 1 0 1 1 1 0 1 0 1 2 1 1 0 1 0 1 1 1 1\n",
      " 1 1 1 1 1 1 1 0 0 1 0 1 1 1 1 1 1 1 1 1 1 1 1 1 0 1 1 1 1 1 1 0 1 0 1 0 1\n",
      " 0 1 1 1 1 2 1 1 1 1 1 1 0 1 0 1 1 0 1 0 1 1 1 0 1 1 1 1 0 0 2 1 1 1 1 1 1\n",
      " 1 1 1 1 1 2 1 1 1 1 1 1 1 0 1 2 1 1 1 1 1 1 1 1 1 0 2 1 0 0 1 0 0 1 0 1 1\n",
      " 1 2 0 0 1 2 1 1 1 1 0 1 0 1 1 1 1 0 0 2 1 0 1 1 1 1 1 0 1 2 1 0 0 1 1 1 1\n",
      " 1 1 1 1 1 1 1 1 1 1 1 1 1 1 1 1 1 1 1 1 1 1 1 1 1 0 0 1 1 1 1 1 1 1 1 1 1\n",
      " 1 1 0 1 1 1 1 1 1 0 1 1 0 0 1 1 0 1 1 1 1 1 1 0 1 1 1 1 0 1 1 0]\n"
     ]
    }
   ],
   "source": [
    "pred_tree_clf = tree_clf.predict(X_test)                                         \n",
    "print(pred_tree_clf) "
   ]
  },
  {
   "cell_type": "code",
   "execution_count": 19,
   "metadata": {},
   "outputs": [
    {
     "data": {
      "text/plain": [
       "array([[128,  84,   0],\n",
       "       [ 69, 530,  11],\n",
       "       [  0,  76,  22]], dtype=int64)"
      ]
     },
     "execution_count": 19,
     "metadata": {},
     "output_type": "execute_result"
    }
   ],
   "source": [
    "#Confusion Matrix, Accuracy for Decision Tree\n",
    "confusion_matrix(y_test.values, pred_tree_clf)"
   ]
  },
  {
   "cell_type": "code",
   "execution_count": 20,
   "metadata": {},
   "outputs": [
    {
     "name": "stdout",
     "output_type": "stream",
     "text": [
      "0.7391304347826086\n"
     ]
    }
   ],
   "source": [
    "from sklearn.metrics import accuracy_score\n",
    "print(accuracy_score(y_test.values, pred_tree_clf))"
   ]
  },
  {
   "cell_type": "code",
   "execution_count": 21,
   "metadata": {},
   "outputs": [],
   "source": [
    "#2. Random Forest Classifier\n",
    "from sklearn.ensemble import RandomForestClassifier"
   ]
  },
  {
   "cell_type": "code",
   "execution_count": 22,
   "metadata": {},
   "outputs": [
    {
     "data": {
      "text/plain": [
       "RandomForestClassifier(bootstrap=True, class_weight=None, criterion='gini',\n",
       "            max_depth=5, max_features='auto', max_leaf_nodes=None,\n",
       "            min_impurity_decrease=0.0, min_impurity_split=None,\n",
       "            min_samples_leaf=1, min_samples_split=2,\n",
       "            min_weight_fraction_leaf=0.0, n_estimators=100, n_jobs=1,\n",
       "            oob_score=False, random_state=42, verbose=0, warm_start=False)"
      ]
     },
     "execution_count": 22,
     "metadata": {},
     "output_type": "execute_result"
    }
   ],
   "source": [
    "forest_clf = RandomForestClassifier(n_estimators=100, max_depth=5,random_state=42)\n",
    "forest_clf.fit(X_train, y_train)"
   ]
  },
  {
   "cell_type": "code",
   "execution_count": 23,
   "metadata": {},
   "outputs": [
    {
     "name": "stdout",
     "output_type": "stream",
     "text": [
      "[1 2 1 1 1 1 1 1 1 1 0 1 0 1 1 1 1 0 1 1 1 1 1 1 1 1 1 1 1 1 1 0 0 0 1 1 1\n",
      " 1 1 1 1 1 1 1 1 1 1 0 1 1 1 1 1 0 1 1 1 0 0 0 1 1 1 1 1 1 1 1 1 1 1 0 1 1\n",
      " 1 1 1 1 1 1 1 1 1 0 1 1 1 1 1 1 0 1 1 1 0 0 0 1 0 1 1 1 1 1 1 1 0 1 0 1 0\n",
      " 1 1 1 0 1 1 1 1 1 1 1 1 0 0 1 0 0 1 1 1 1 1 1 0 1 1 1 1 0 1 1 1 0 1 1 0 0\n",
      " 1 1 1 1 1 1 1 1 1 1 1 1 1 1 1 0 0 1 1 1 1 1 1 0 0 1 1 1 1 1 1 1 1 1 0 1 1\n",
      " 0 1 0 1 1 1 0 1 1 1 0 2 1 1 1 1 1 1 0 1 1 1 1 1 0 1 0 1 1 1 1 1 1 1 1 0 1\n",
      " 0 0 0 1 1 1 0 1 1 0 1 1 1 0 1 1 1 0 1 1 1 1 1 1 1 0 1 1 1 1 1 1 1 1 1 1 1\n",
      " 0 1 1 1 1 1 1 1 1 1 1 0 1 1 1 1 1 1 1 1 1 1 0 1 0 1 1 1 1 1 0 1 1 1 1 0 1\n",
      " 1 1 0 0 1 1 1 1 2 1 1 1 1 0 1 1 1 1 1 1 1 0 1 1 1 1 1 1 1 1 1 1 0 1 1 1 1\n",
      " 0 1 1 1 1 1 1 1 0 1 1 0 1 1 1 1 0 1 1 0 1 1 1 1 0 1 1 1 0 1 1 1 1 1 1 1 1\n",
      " 1 1 1 1 1 1 1 1 1 1 1 1 1 1 1 1 1 1 1 1 1 1 1 1 1 1 0 0 1 1 1 0 1 0 1 1 1\n",
      " 0 1 1 1 1 1 1 0 1 0 1 1 1 0 1 1 0 1 1 1 0 1 1 1 1 0 1 1 1 1 0 1 1 1 1 0 1\n",
      " 1 1 1 1 1 1 1 0 1 1 1 1 1 1 1 1 1 1 1 1 1 1 1 1 1 1 1 0 1 1 1 1 1 0 1 1 1\n",
      " 0 1 1 1 1 1 0 1 0 0 1 1 1 1 1 0 1 1 1 1 1 0 1 1 1 1 1 0 1 0 1 1 1 1 0 1 1\n",
      " 1 1 1 1 1 1 1 1 1 1 1 1 1 0 1 0 1 1 0 1 1 1 1 1 1 1 0 1 1 1 1 1 1 1 1 0 1\n",
      " 1 1 1 0 1 1 1 1 1 1 1 1 0 1 1 0 1 1 1 1 1 1 1 0 1 1 1 1 0 1 0 1 1 1 0 1 1\n",
      " 0 1 1 1 1 1 1 1 1 1 0 1 1 0 1 1 1 1 1 1 0 1 1 1 1 1 0 1 1 1 1 1 1 0 1 1 1\n",
      " 1 1 1 1 0 1 1 1 0 0 1 1 1 0 1 1 1 1 1 0 2 1 1 1 1 1 1 1 1 1 1 1 1 1 1 1 0\n",
      " 1 1 0 1 1 1 1 1 1 1 1 0 0 1 1 1 1 1 1 1 1 1 1 0 1 0 1 2 1 1 0 1 1 1 1 1 1\n",
      " 1 1 1 1 1 1 1 0 0 1 0 1 1 1 1 1 1 1 1 1 1 1 1 1 0 1 1 1 1 1 1 0 1 0 1 0 1\n",
      " 0 1 1 1 1 1 1 1 1 1 1 1 0 1 0 1 1 0 1 0 1 1 1 1 1 1 1 1 1 0 2 1 1 1 1 1 1\n",
      " 0 1 1 1 1 1 1 1 1 1 1 1 1 0 1 1 1 1 1 1 1 1 1 1 1 0 1 1 1 1 1 1 0 1 0 1 1\n",
      " 1 1 1 0 1 1 1 1 1 1 0 1 0 1 1 1 1 0 0 1 1 0 1 1 0 1 1 1 1 1 1 0 0 1 1 1 1\n",
      " 1 1 1 1 1 1 1 1 1 1 1 1 1 1 1 1 1 1 1 1 1 1 1 1 1 0 0 1 1 1 1 1 1 1 1 1 1\n",
      " 1 1 0 1 1 1 1 1 1 0 1 1 0 0 1 1 0 1 0 1 1 1 1 0 1 1 1 1 0 1 1 0]\n"
     ]
    }
   ],
   "source": [
    "pred_forest_clf = forest_clf.predict(X_test)                                         \n",
    "print(pred_forest_clf) "
   ]
  },
  {
   "cell_type": "code",
   "execution_count": 24,
   "metadata": {},
   "outputs": [
    {
     "data": {
      "text/plain": [
       "array([[111, 101,   0],\n",
       "       [ 49, 561,   0],\n",
       "       [  3,  89,   6]], dtype=int64)"
      ]
     },
     "execution_count": 24,
     "metadata": {},
     "output_type": "execute_result"
    }
   ],
   "source": [
    "#Confusion Matrix, Accuracy for Random Forest\n",
    "confusion_matrix(y_test.values, pred_forest_clf)"
   ]
  },
  {
   "cell_type": "code",
   "execution_count": 25,
   "metadata": {},
   "outputs": [
    {
     "name": "stdout",
     "output_type": "stream",
     "text": [
      "0.7369565217391304\n"
     ]
    }
   ],
   "source": [
    "print(accuracy_score(y_test.values, pred_forest_clf))"
   ]
  },
  {
   "cell_type": "code",
   "execution_count": 26,
   "metadata": {},
   "outputs": [],
   "source": [
    "#3. SVC\n",
    "from sklearn.pipeline import Pipeline\n",
    "from sklearn.preprocessing import StandardScaler\n",
    "from sklearn.svm import SVC"
   ]
  },
  {
   "cell_type": "code",
   "execution_count": 27,
   "metadata": {},
   "outputs": [
    {
     "data": {
      "text/plain": [
       "Pipeline(memory=None,\n",
       "     steps=[('scaler', StandardScaler(copy=True, with_mean=True, with_std=True)), ('svc_linear', SVC(C=1, cache_size=200, class_weight=None, coef0=0.0,\n",
       "  decision_function_shape='ovr', degree=3, gamma='auto', kernel='linear',\n",
       "  max_iter=-1, probability=False, random_state=42, shrinking=True,\n",
       "  tol=0.001, verbose=False))])"
      ]
     },
     "execution_count": 27,
     "metadata": {},
     "output_type": "execute_result"
    }
   ],
   "source": [
    "svc_clf = Pipeline([\n",
    "        (\"scaler\", StandardScaler()),\n",
    "        (\"svc_linear\", SVC(kernel=\"linear\",C=1,random_state=42)),\n",
    "    ])\n",
    "\n",
    "svc_clf.fit(X_train, y_train)"
   ]
  },
  {
   "cell_type": "code",
   "execution_count": 28,
   "metadata": {},
   "outputs": [
    {
     "name": "stdout",
     "output_type": "stream",
     "text": [
      "[1 1 1 1 1 1 1 1 1 1 0 1 0 1 1 1 1 0 0 1 1 1 1 1 1 1 1 1 1 1 1 0 0 1 1 1 1\n",
      " 1 1 1 1 1 1 1 1 1 1 0 1 1 1 1 1 0 1 1 1 1 0 0 1 1 1 1 1 1 1 1 1 1 1 0 1 1\n",
      " 1 1 1 1 1 1 1 0 1 0 1 1 1 1 1 1 0 1 1 1 0 1 0 1 0 1 1 1 1 1 1 0 0 1 1 1 1\n",
      " 1 1 1 0 1 1 1 1 1 1 1 1 0 1 1 0 1 1 1 1 1 1 1 0 1 1 0 1 1 1 1 1 0 1 1 0 1\n",
      " 1 1 1 1 1 1 1 1 1 1 1 1 1 1 1 1 0 1 1 1 1 1 1 0 0 1 1 1 1 1 1 1 1 1 0 1 1\n",
      " 0 1 0 0 1 1 0 1 1 1 0 1 1 1 1 1 1 1 1 1 1 1 1 1 0 1 0 1 1 1 1 1 1 1 1 0 1\n",
      " 0 0 0 1 0 1 0 1 1 0 1 0 1 0 1 1 1 0 1 1 1 1 1 1 1 0 0 1 1 1 1 1 1 1 1 1 1\n",
      " 0 1 1 1 1 1 1 1 1 1 0 0 1 1 1 1 1 1 1 0 1 1 0 1 0 1 1 1 1 0 1 1 1 1 1 0 1\n",
      " 1 1 1 1 1 1 1 1 1 1 1 1 1 1 1 1 1 1 1 1 1 1 1 1 1 1 1 1 1 1 1 1 1 1 1 1 1\n",
      " 0 1 1 1 1 1 1 1 1 1 1 1 1 0 1 1 0 1 1 1 1 1 1 1 0 1 1 0 0 1 1 1 1 1 1 1 1\n",
      " 1 1 1 1 1 1 1 1 1 1 1 1 1 1 1 1 1 1 1 1 1 1 1 1 1 1 1 1 1 0 1 0 1 0 1 1 1\n",
      " 0 1 1 1 1 1 1 0 1 0 1 1 1 0 1 1 0 1 1 1 0 1 1 1 1 0 1 1 1 1 1 1 1 1 1 0 1\n",
      " 1 1 1 1 1 1 1 0 1 1 1 1 1 1 1 1 1 1 1 1 1 1 1 1 1 1 1 0 1 1 1 1 1 1 1 1 1\n",
      " 0 1 1 1 1 1 1 1 0 0 1 1 1 1 1 1 0 1 1 1 1 0 1 1 1 1 1 0 1 0 1 1 1 1 0 1 1\n",
      " 1 1 1 1 1 1 1 1 1 1 1 1 1 0 1 0 1 1 0 1 1 1 1 1 1 1 1 1 1 1 1 1 1 1 1 0 1\n",
      " 1 1 1 0 1 1 1 1 1 1 1 1 0 1 1 0 1 1 0 1 1 1 1 0 1 1 1 1 0 1 0 1 1 1 0 1 1\n",
      " 1 1 1 1 1 1 1 1 1 1 0 1 1 0 1 0 1 1 1 1 0 1 1 1 1 1 0 1 1 1 1 1 1 0 1 1 1\n",
      " 1 1 1 1 0 1 1 1 0 1 1 1 1 0 1 1 1 1 1 1 2 1 1 1 1 1 1 1 1 1 1 1 1 1 1 1 0\n",
      " 1 1 1 1 1 1 1 1 1 1 1 0 1 1 1 1 1 1 1 1 1 1 1 1 0 0 1 1 1 1 0 1 1 1 1 1 1\n",
      " 1 1 1 1 0 1 1 0 0 1 0 1 1 1 1 1 1 1 1 1 1 1 1 1 1 1 1 1 1 1 1 1 1 0 1 0 1\n",
      " 0 1 1 1 1 1 1 1 1 1 1 1 0 1 1 1 1 0 1 1 1 1 1 1 1 1 1 1 1 0 1 1 1 1 1 1 1\n",
      " 1 1 1 1 1 1 1 1 1 1 1 1 1 0 1 1 1 1 1 1 1 1 1 1 1 1 1 1 1 1 1 1 0 1 0 1 1\n",
      " 1 1 1 0 1 1 1 1 1 1 0 1 0 1 1 1 1 0 0 2 1 0 2 1 1 1 1 1 1 1 1 0 0 1 1 1 1\n",
      " 1 1 1 1 1 1 1 1 1 1 1 1 1 1 1 1 1 1 1 1 1 1 1 1 1 0 0 1 1 1 1 1 1 1 1 1 1\n",
      " 1 1 0 1 1 1 1 1 1 0 1 1 0 0 1 1 0 1 0 1 1 1 1 1 1 1 1 1 0 0 1 0]\n"
     ]
    }
   ],
   "source": [
    "pred_svc_clf = svc_clf.predict(X_test)\n",
    "print(pred_svc_clf)"
   ]
  },
  {
   "cell_type": "code",
   "execution_count": 29,
   "metadata": {},
   "outputs": [
    {
     "data": {
      "text/plain": [
       "array([[106, 106,   0],\n",
       "       [ 36, 573,   1],\n",
       "       [  0,  96,   2]], dtype=int64)"
      ]
     },
     "execution_count": 29,
     "metadata": {},
     "output_type": "execute_result"
    }
   ],
   "source": [
    "#Confusion Matrix, Accuracy for SVC Linear\n",
    "confusion_matrix(y_test.values, pred_svc_clf)"
   ]
  },
  {
   "cell_type": "code",
   "execution_count": 30,
   "metadata": {},
   "outputs": [
    {
     "name": "stdout",
     "output_type": "stream",
     "text": [
      "0.7402173913043478\n"
     ]
    }
   ],
   "source": [
    "print(accuracy_score(y_test.values, pred_svc_clf))"
   ]
  },
  {
   "cell_type": "code",
   "execution_count": null,
   "metadata": {},
   "outputs": [],
   "source": []
  }
 ],
 "metadata": {
  "kernelspec": {
   "display_name": "Python 3",
   "language": "python",
   "name": "python3"
  },
  "language_info": {
   "codemirror_mode": {
    "name": "ipython",
    "version": 3
   },
   "file_extension": ".py",
   "mimetype": "text/x-python",
   "name": "python",
   "nbconvert_exporter": "python",
   "pygments_lexer": "ipython3",
   "version": "3.6.5"
  }
 },
 "nbformat": 4,
 "nbformat_minor": 2
}
